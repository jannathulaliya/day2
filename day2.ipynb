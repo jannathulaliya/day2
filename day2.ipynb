{
 "cells": [
  {
   "cell_type": "code",
   "execution_count": null,
   "id": "578122a5-5969-4899-ae58-e920f70e2f16",
   "metadata": {},
   "outputs": [],
   "source": [
    "#part a"
   ]
  },
  {
   "cell_type": "code",
   "execution_count": 7,
   "id": "22dca63e-184b-4e6d-85f6-5439b9855fd3",
   "metadata": {},
   "outputs": [
    {
     "name": "stdout",
     "output_type": "stream",
     "text": [
      "[0 1 2 3 4 5 6 7 8 9]\n"
     ]
    }
   ],
   "source": [
    "import numpy as np\n",
    "arr = np.arange(0,10)\n",
    "print(arr)"
   ]
  },
  {
   "cell_type": "code",
   "execution_count": 9,
   "id": "7dfa08db-344a-4937-82cc-765de0af5e40",
   "metadata": {},
   "outputs": [
    {
     "name": "stdout",
     "output_type": "stream",
     "text": [
      "[[1 2]\n",
      " [3 4]]\n"
     ]
    }
   ],
   "source": [
    "my_array = np.array([1,2,3,4])\n",
    "my_array2 = my_array.reshape(2,2)\n",
    "print(arr2)"
   ]
  },
  {
   "cell_type": "code",
   "execution_count": 18,
   "id": "fccc2cda-ef7b-4056-b49f-ec175e905b06",
   "metadata": {},
   "outputs": [
    {
     "name": "stdout",
     "output_type": "stream",
     "text": [
      "[[ 6  8]\n",
      " [10 12]]\n",
      "[[ 5 12]\n",
      " [21 32]]\n",
      "[[198 328]\n",
      " [302 504]]\n",
      "[[198 302]\n",
      " [328 504]]\n"
     ]
    }
   ],
   "source": [
    "a = np.array([[1,2],[3,4]])\n",
    "b = np.array([[5,6],[7,8]])\n",
    "print(a+b)\n",
    "print(a*b)\n",
    "print(np.dot(a+b,a*b))\n",
    "print(np.transpose(np.dot(a+b,a*b)))"
   ]
  },
  {
   "cell_type": "code",
   "execution_count": 28,
   "id": "89ac62e4-ff21-4348-b15e-7af55a8bbbcb",
   "metadata": {},
   "outputs": [
    {
     "name": "stdout",
     "output_type": "stream",
     "text": [
      "element >5 [15 33]\n",
      "[ 3  5  0 15 33  4  0  0]\n"
     ]
    }
   ],
   "source": [
    "arr = np.array([3,5,-9,15,33,4,-1,-55])\n",
    "g = arr[arr>5]\n",
    "print(\"element >5\",g)\n",
    "n = np.where(arr<0,0,arr)\n",
    "print(n)"
   ]
  },
  {
   "cell_type": "code",
   "execution_count": 23,
   "id": "8e68ac49-f447-4359-a77f-67ac6e46624c",
   "metadata": {},
   "outputs": [
    {
     "name": "stdout",
     "output_type": "stream",
     "text": [
      "[5 4 3 2 1]\n"
     ]
    }
   ],
   "source": [
    "my_array = np.array([1,2,3,4,5])\n",
    "rev_array = my_array[::-1]\n",
    "print(rev_array)"
   ]
  },
  {
   "cell_type": "code",
   "execution_count": 32,
   "id": "e04dff17-070d-49bf-a3c3-d2df8f60ec73",
   "metadata": {},
   "outputs": [
    {
     "name": "stdout",
     "output_type": "stream",
     "text": [
      "33.0\n",
      "33.0\n",
      "15.556349186104045\n"
     ]
    }
   ],
   "source": [
    "arr = np.array([11,22,33,44,55])\n",
    "mean = np.mean(arr)\n",
    "print(mean)\n",
    "median = np.median(arr)\n",
    "print(median)\n",
    "sd = np.std(arr)\n",
    "print(sd)"
   ]
  },
  {
   "cell_type": "code",
   "execution_count": 42,
   "id": "07609c75-33e8-4421-8d54-a1316ca25b8b",
   "metadata": {},
   "outputs": [
    {
     "name": "stdout",
     "output_type": "stream",
     "text": [
      "array saved as 'array_file.npy'.\n",
      "[1 2 3 4 5]\n"
     ]
    }
   ],
   "source": [
    "array = np.array([1,2,3,4,5])\n",
    "np.save('array_file.npy',array)\n",
    "print(\"array saved as 'array_file.npy'.\")\n",
    "load = np.load('array_file.npy')\n",
    "print(load)"
   ]
  },
  {
   "cell_type": "code",
   "execution_count": 45,
   "id": "ca70ce4e-931c-4ebf-8f45-2acf7ec813e6",
   "metadata": {},
   "outputs": [
    {
     "name": "stdout",
     "output_type": "stream",
     "text": [
      "[[1. 2.]\n",
      " [3. 4.]]\n"
     ]
    }
   ],
   "source": [
    "array = np.array([[1,2],[3,4]])\n",
    "np.savetxt(\"good.txt\",array)\n",
    "load = np.loadtxt(\"good.txt\")\n",
    "print(load)"
   ]
  },
  {
   "cell_type": "code",
   "execution_count": 43,
   "id": "8bcc1fbf-708b-45a6-8935-0a6bc4b1f61e",
   "metadata": {},
   "outputs": [
    {
     "name": "stdout",
     "output_type": "stream",
     "text": [
      "[[1 2 5 6]\n",
      " [3 4 7 8]]\n"
     ]
    }
   ],
   "source": [
    "a = np.array([[1,2],[3,4]])\n",
    "b = np.array([[5,6],[7,8]])\n",
    "merge = np.hstack((a,b))\n",
    "print(merge)"
   ]
  },
  {
   "cell_type": "code",
   "execution_count": null,
   "id": "e400ffba-11fb-419b-973e-4948dfed6c0e",
   "metadata": {},
   "outputs": [],
   "source": []
  },
  {
   "cell_type": "code",
   "execution_count": 54,
   "id": "1a5a9413-594b-4fc4-886c-0a280b3e68cc",
   "metadata": {},
   "outputs": [
    {
     "ename": "NameError",
     "evalue": "name 'Air_passengers' is not defined",
     "output_type": "error",
     "traceback": [
      "\u001b[1;31m---------------------------------------------------------------------------\u001b[0m",
      "\u001b[1;31mNameError\u001b[0m                                 Traceback (most recent call last)",
      "Cell \u001b[1;32mIn[54], line 2\u001b[0m\n\u001b[0;32m      1\u001b[0m \u001b[38;5;28;01mimport\u001b[39;00m \u001b[38;5;21;01mpandas\u001b[39;00m \u001b[38;5;28;01mas\u001b[39;00m \u001b[38;5;21;01mpd\u001b[39;00m \n\u001b[1;32m----> 2\u001b[0m dataset \u001b[38;5;241m=\u001b[39m pd\u001b[38;5;241m.\u001b[39mread_csv(Air_passengers\u001b[38;5;241m.\u001b[39mcsv\u001b[38;5;241m.\u001b[39mcsv)\n\u001b[0;32m      3\u001b[0m dataset\u001b[38;5;241m.\u001b[39mhead()\n",
      "\u001b[1;31mNameError\u001b[0m: name 'Air_passengers' is not defined"
     ]
    }
   ],
   "source": [
    "import pandas as pd \n",
    "dataset = pd.read_csv(Air_passengers.csv.csv)\n",
    "dataset.head()"
   ]
  },
  {
   "cell_type": "code",
   "execution_count": null,
   "id": "78093db7-126d-4dcf-9950-a5c1b40e8f55",
   "metadata": {},
   "outputs": [],
   "source": [
    "total_passengers = np.sum()"
   ]
  },
  {
   "cell_type": "code",
   "execution_count": null,
   "id": "657850db-6d00-4f78-b273-212f633e1072",
   "metadata": {},
   "outputs": [],
   "source": []
  }
 ],
 "metadata": {
  "kernelspec": {
   "display_name": "Python [conda env:base] *",
   "language": "python",
   "name": "conda-base-py"
  },
  "language_info": {
   "codemirror_mode": {
    "name": "ipython",
    "version": 3
   },
   "file_extension": ".py",
   "mimetype": "text/x-python",
   "name": "python",
   "nbconvert_exporter": "python",
   "pygments_lexer": "ipython3",
   "version": "3.12.7"
  }
 },
 "nbformat": 4,
 "nbformat_minor": 5
}
